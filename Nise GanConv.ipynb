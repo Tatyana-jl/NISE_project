{
 "cells": [
  {
   "cell_type": "code",
   "execution_count": null,
   "metadata": {},
   "outputs": [],
   "source": [
    "import os\n",
    "import argparse\n",
    "import torch\n",
    "import math\n",
    "import pandas as pd\n",
    "from skimage import io, transform\n",
    "import numpy as np\n",
    "import matplotlib.pyplot as plt\n",
    "from torch.utils.data import Dataset, DataLoader\n",
    "from torchvision import transforms, utils\n",
    "from torch.autograd import Variable\n",
    "\n",
    "\n",
    "%load_ext autoreload\n",
    "%autoreload 1\n",
    "\n",
    "%aimport ganConv "
   ]
  },
  {
   "cell_type": "code",
   "execution_count": null,
   "metadata": {},
   "outputs": [],
   "source": [
    "#Parameters\n",
    "parameters={\n",
    "'n_epochs': 100, #number of epochs of training\n",
    "'batch_size': 500, #size of the batches\n",
    "\"lr\":0.0001, #adam: learning rate\n",
    "'b1': 0.9, #adam: decay of first order momentum of gradient\n",
    "'b2':0.999, #adam: decay of first order momentum of gradient\n",
    "'latent_dim': 100, #dimensionality of the latent space\n",
    "'n_classes': 24, #number of classes for dataset\n",
    "'img_size': 28, #size of each image dimension\n",
    "'channels': 1, #number of image channels\n",
    "'sample_interval': 10000 # 'interval between image sampling'\n",
    "}"
   ]
  },
  {
   "cell_type": "code",
   "execution_count": null,
   "metadata": {},
   "outputs": [],
   "source": []
  }
 ],
 "metadata": {
  "kernelspec": {
   "display_name": "Python 3",
   "language": "python",
   "name": "python3"
  },
  "language_info": {
   "codemirror_mode": {
    "name": "ipython",
    "version": 3
   },
   "file_extension": ".py",
   "mimetype": "text/x-python",
   "name": "python",
   "nbconvert_exporter": "python",
   "pygments_lexer": "ipython3",
   "version": "3.7.0"
  }
 },
 "nbformat": 4,
 "nbformat_minor": 2
}
