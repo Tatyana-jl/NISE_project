{
 "cells": [
  {
   "cell_type": "code",
   "execution_count": null,
   "metadata": {},
   "outputs": [],
   "source": [
    "import scipy \n",
    "from scipy.stats import entropy\n",
    "import numpy as np\n",
    "import matplotlib.pyplot as plt"
   ]
  },
  {
   "cell_type": "code",
   "execution_count": null,
   "metadata": {},
   "outputs": [],
   "source": [
    "def similarity(gen_img, data_check):\n",
    "    \n",
    "    kl = []\n",
    "    for img in data_check:\n",
    "        kl.append(entropy(img+0.000001, gen_img+0.000001)) #to avoid div by zero\n",
    "        \n",
    "    return kl\n",
    "        \n",
    "#data = np.loadtxt('/home/NISE/DataSigns.csv', delimiter=',', dtype=np.float32, skiprows=1)\n",
    "min_max = np.amax(data[:, 1:], axis=1) - np.amin(data[:, 1:], axis=1)\n",
    "images_rows = data[:, 1:] - np.amin(data[:, 1:], axis=1).reshape(-1, 1)\n",
    "images_rows = images_rows/min_max.reshape(-1, 1)\n",
    "labels = data[:, 0]\n",
    "\n",
    "data_check = []\n",
    "for cl in range(25):\n",
    "    if np.nonzero(data[:,0]==cl)[0].size:\n",
    "        to_add = data[np.nonzero(data[:,0]==cl)[0][1], 1:]\n",
    "        min_max = np.amax(to_add) - np.amin(to_add)\n",
    "        im_row = to_add - np.amin(to_add)\n",
    "        im_row = im_row/min_max\n",
    "        data_check.append(im_row)\n",
    "    \n",
    "data_check = np.array(data_check)"
   ]
  },
  {
   "cell_type": "code",
   "execution_count": null,
   "metadata": {},
   "outputs": [],
   "source": [
    "fig = plt.figure(figsize=(20,20))\n",
    "i=1\n",
    "for img in data_check:\n",
    "    img_reshape = img.reshape((28,28))\n",
    "    ax = fig.add_subplot(5,5,i)\n",
    "    ax.imshow(img_reshape, cmap='gray')\n",
    "    plt.title(str(i-1))\n",
    "    i+=1"
   ]
  },
  {
   "cell_type": "code",
   "execution_count": null,
   "metadata": {},
   "outputs": [],
   "source": [
    "signsVoc = {0:'a', 1: 'b', 2: 'c', 3: 'd', 4: 'e',\n",
    "            5:'f', 6: 'g', 7: 'h', 8: 'i', 10:'k',\n",
    "            11: 'l', 12: 'm', 13: 'n', 14: 'o', 15:'p',\n",
    "            16: 'q', 17: 'r', 18: 's', 19: 't', 20: 'u',\n",
    "            21: 'v', 22: 'w', 23: 'x', 24: 'y'}"
   ]
  },
  {
   "cell_type": "code",
   "execution_count": null,
   "metadata": {},
   "outputs": [],
   "source": [
    "data_fake = []\n",
    "for cl in range(25):\n",
    "    if np.nonzero(data[:,0]==cl)[0].size:\n",
    "        to_add = data[np.nonzero(data[:,0]==cl)[0][0], 1:]\n",
    "        min_max = np.amax(to_add) - np.amin(to_add)\n",
    "        im_row = to_add - np.amin(to_add)\n",
    "        im_row = im_row/min_max\n",
    "        data_fake.append(im_row)\n",
    "    \n",
    "data_fake = np.array(data_fake)"
   ]
  },
  {
   "cell_type": "code",
   "execution_count": null,
   "metadata": {},
   "outputs": [],
   "source": [
    "sim_full = []\n",
    "for image_sim in data_fake:\n",
    "    to_add = np.array(np.exp(np.array(similarity(image_sim, data_check))))\n",
    "    min_max = np.amax(to_add) - np.amin(to_add)\n",
    "    to_add -= np.amin(to_add)\n",
    "    to_add = to_add/min_max\n",
    "    sim_full.append(to_add)"
   ]
  },
  {
   "cell_type": "code",
   "execution_count": null,
   "metadata": {},
   "outputs": [],
   "source": [
    "from matplotlib import pyplot as plt\n",
    "# fig = plt.figure(figsize=(24,24))\n",
    "# ax = fig.add_subplot(111, frameon=True, xticks = [], yticks = [])\n",
    "cells = np.array(sim_full)\n",
    "img = plt.imshow(cells, cmap=\"Blues\")\n",
    "plt.colorbar()\n",
    "img.set_visible(False)\n",
    "plt.table(rowLabels = [letter for letter in signsVoc.values()], \n",
    "    colLabels = [letter for letter in signsVoc.values()], \n",
    "    loc = 'center',\n",
    "    cellColours = img.to_rgba(cells))\n",
    "plt.axis('off')\n",
    "# ax.add_table(tb)\n",
    "# plt.show()"
   ]
  },
  {
   "cell_type": "code",
   "execution_count": null,
   "metadata": {},
   "outputs": [],
   "source": [
    "cells = np.array(sim_full)\n",
    "img = plt.imshow(cells)\n",
    "img.set_cmap('Blues')\n",
    "plt.axis('off')"
   ]
  }
 ],
 "metadata": {
  "kernelspec": {
   "display_name": "Python 3",
   "language": "python",
   "name": "python3"
  },
  "language_info": {
   "codemirror_mode": {
    "name": "ipython",
    "version": 3
   },
   "file_extension": ".py",
   "mimetype": "text/x-python",
   "name": "python",
   "nbconvert_exporter": "python",
   "pygments_lexer": "ipython3",
   "version": "3.6.5"
  }
 },
 "nbformat": 4,
 "nbformat_minor": 2
}
