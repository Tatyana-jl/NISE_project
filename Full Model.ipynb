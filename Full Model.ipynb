{
 "cells": [
  {
   "cell_type": "code",
   "execution_count": 36,
   "metadata": {},
   "outputs": [
    {
     "name": "stdout",
     "output_type": "stream",
     "text": [
      "The autoreload extension is already loaded. To reload it, use:\n",
      "  %reload_ext autoreload\n"
     ]
    }
   ],
   "source": [
    "import numpy as np\n",
    "import pandas as pd\n",
    "from collections import *\n",
    "import torch\n",
    "import torch.nn as nn\n",
    "from Models.TwoLayerNet import twoLayerNet \n",
    "from Hand_model import Hand_model\n",
    "import matplotlib.pyplot as plt\n",
    "from torch.autograd import Variable\n",
    "\n",
    "%matplotlib inline\n",
    "plt.rcParams['figure.figsize'] = (16.0, 14.0) # set default size of plots\n",
    "plt.rcParams['image.interpolation'] = 'nearest'\n",
    "plt.rcParams['image.cmap'] = 'gray'\n",
    "\n",
    "%load_ext autoreload\n",
    "%autoreload 1\n",
    "\n",
    "%aimport Models.Solver, Models.ganConv "
   ]
  },
  {
   "cell_type": "code",
   "execution_count": 49,
   "metadata": {},
   "outputs": [
    {
     "name": "stderr",
     "output_type": "stream",
     "text": [
      "D:\\anaconda\\envs\\forceNet\\lib\\site-packages\\ipykernel_launcher.py:51: FutureWarning: Method .as_matrix will be removed in a future version. Use .values instead.\n",
      "C:\\Users\\tetia\\PycharmProjects\\NISE_GAN\\NISE_project\\Hand_model.py:41: FutureWarning: Method .as_matrix will be removed in a future version. Use .values instead.\n",
      "  array = letter.as_matrix().ravel()\n"
     ]
    }
   ],
   "source": [
    "# Generate data for 6 classes:\n",
    "\n",
    "# Create an instance of my hand\n",
    "myhand = Hand_model()\n",
    "\n",
    "# Create the default posture\n",
    "default_parameters = myhand.create_posture()\n",
    "\n",
    "# Parametrize the letters\n",
    "letters = {} # Dictionary to save the parameters that codify each letter\n",
    "\n",
    "# Letter A\n",
    "A = myhand.create_posture()\n",
    "A.loc['MCP_fe':'PIP','index':'ring']=90\n",
    "A.loc['TMC_aa','thumb']=-45\n",
    "letters['A']=A\n",
    "\n",
    "# Letter B\n",
    "B = myhand.create_posture()\n",
    "B.loc['TMC_fe','thumb']=180\n",
    "letters['B']=B\n",
    "\n",
    "# Letter C\n",
    "C = myhand.create_posture()\n",
    "C.loc['MCP_fe','index':'ring']=30\n",
    "C.loc['PIP','index':'ring']=60\n",
    "C.loc['TMC_fe','thumb']=90\n",
    "C.loc['MCP_fe','thumb']=10\n",
    "letters['C']=C\n",
    "\n",
    "# Letter D\n",
    "D = myhand.create_posture()\n",
    "D.loc['MCP_fe','little':'thumb']=45\n",
    "D.loc['PIP','little':'ring']=60\n",
    "D.loc['TMC_fe','thumb'] = 90\n",
    "letters['D']=D\n",
    "\n",
    "# Letter E\n",
    "E = myhand.create_posture()\n",
    "E.loc['MCP_fe','index':'thumb']=90\n",
    "E.loc['PIP','index':'ring']=90\n",
    "E.loc['TMC_aa','thumb']=-90\n",
    "letters['E']=E\n",
    "\n",
    "# Initialize variables\n",
    "n_samples = 1\n",
    "variance = 25 # For noise: v degrees in all the angles  \n",
    "n_letters = len(letters)\n",
    "\n",
    "# Number of parameters\n",
    "array = default_parameters.as_matrix().ravel()\n",
    "array = array[~np.isnan(array)]\n",
    "n_params = len(array)\n",
    "\n",
    "# Create the parameters structure\n",
    "params = np.zeros((n_letters*n_samples,n_params))\n",
    "# labels = np.zeros(n_letters*n_samples)\n",
    "labels = np.zeros((n_letters*n_samples,n_letters))\n",
    "\n",
    "l=0    \n",
    "for key, letter in letters.items():\n",
    "\n",
    "    # Params\n",
    "    new_params = myhand.create_samples(letter,n_samples,variance)\n",
    "    params[(l*n_samples):(l*n_samples+n_samples),:] = new_params\n",
    "\n",
    "    # Labels\n",
    "    labels[(l*n_samples):(l*n_samples+n_samples),l]=1\n",
    "    l+=1\n",
    "    "
   ]
  },
  {
   "cell_type": "code",
   "execution_count": 50,
   "metadata": {},
   "outputs": [
    {
     "name": "stdout",
     "output_type": "stream",
     "text": [
      "tensor([1, 0, 1, 4, 4])\n"
     ]
    }
   ],
   "source": [
    "# Run the trained feedforward model to generate 6 labels\n",
    "net = torch.load('Trained/twoLayer.pth')\n",
    "\n",
    "y_pred = net(torch.from_numpy(np.float32(params)))\n",
    "_, labels_check = torch.max(y_pred,1) # Classes\n",
    "\n",
    "print(labels_check)"
   ]
  },
  {
   "cell_type": "code",
   "execution_count": 51,
   "metadata": {},
   "outputs": [
    {
     "data": {
      "text/plain": [
       "array([3, 2, 3, 5, 5], dtype=int64)"
      ]
     },
     "execution_count": 51,
     "metadata": {},
     "output_type": "execute_result"
    }
   ],
   "source": [
    "# Generator has the following encoding of classes:0-D, 1-C, 2-A, 3-B, 5-E (4-F - not included to analysis)\n",
    "\n",
    "dict_decode = {0:2, 1:3, 2:1, 3:0, 4:5}\n",
    "labels_check = labels_check.numpy()\n",
    "for label in range(labels_check.shape[0]):\n",
    "    labels_check[label] = dict_decode[labels_check[label]]\n",
    "    \n",
    "labels_check"
   ]
  },
  {
   "cell_type": "code",
   "execution_count": 52,
   "metadata": {},
   "outputs": [
    {
     "data": {
      "image/png": "[encoded data removed]",
      "text/plain": [
       "<Figure size 1440x1440 with 5 Axes>"
      ]
     },
     "metadata": {
      "needs_background": "light"
     },
     "output_type": "display_data"
    }
   ],
   "source": [
    "# Run Generator to generate respective images\n",
    "\n",
    "   \n",
    "#Parameters for GAN \n",
    "parameters={\n",
    "'latent_dim': 100, #dimensionality of the latent space\n",
    "'n_classes': 6, #number of classes for dataset\n",
    "'img_size': 28, #size of each image dimension\n",
    "'channels': 1, #number of image channels\n",
    "}\n",
    "\n",
    "generator = torch.load('Trained/generator_conv_short.pth')\n",
    "\n",
    "cuda = True if torch.cuda.is_available() else False\n",
    "\n",
    "if cuda:\n",
    "    generator.cuda()\n",
    "\n",
    "FloatTensor = torch.cuda.FloatTensor if cuda else torch.FloatTensor\n",
    "LongTensor = torch.cuda.LongTensor if cuda else torch.LongTensor\n",
    "\n",
    "# Sample noise and labels as generator input\n",
    "z = Variable(FloatTensor(np.random.normal(0, 1, (5, parameters['latent_dim']))))\n",
    "\n",
    "# Generate images\n",
    "generator.eval()\n",
    "check_imgs = generator(z, Variable(LongTensor(labels_check)))\n",
    "\n",
    "fig = plt.figure(figsize=(20,20))\n",
    "for show in range(5):\n",
    "    ax = fig.add_subplot(1,5,show+1)\n",
    "    ax.imshow(check_imgs.cpu().detach().numpy()[show,:,:], cmap='gray')\n",
    "    plt.title(str(labels_check[show]))"
   ]
  }
 ],
 "metadata": {
  "kernelspec": {
   "display_name": "Python 3",
   "language": "python",
   "name": "python3"
  },
  "language_info": {
   "codemirror_mode": {
    "name": "ipython",
    "version": 3
   },
   "file_extension": ".py",
   "mimetype": "text/x-python",
   "name": "python",
   "nbconvert_exporter": "python",
   "pygments_lexer": "ipython3",
   "version": "3.7.0"
  }
 },
 "nbformat": 4,
 "nbformat_minor": 2
}
