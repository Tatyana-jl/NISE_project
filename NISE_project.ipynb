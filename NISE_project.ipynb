{
 "cells": [
  {
   "cell_type": "markdown",
   "metadata": {},
   "source": [
    "# Multisensory integration architecture for sign-language recognition\n",
    "## Project for Neuro-Inspired Systems Engineering course at TUM\n",
    "\n",
    "Authors of the project: Tatyana Klimenko and Cristina Gil\n",
    "\n",
    "This script was written by Cristina Gil"
   ]
  },
  {
   "cell_type": "markdown",
   "metadata": {},
   "source": [
    "# Part 1: modeling sign-language gestures\n",
    "\n",
    "The following code aims to model from a basic perspective sign-language gestures of american sign language.\n",
    "<img src=\"american_sign_language.png\">\n"
   ]
  },
  {
   "cell_type": "code",
   "execution_count": 1,
   "metadata": {},
   "outputs": [],
   "source": [
    "import numpy as np\n",
    "import pandas as pd\n",
    "from collections import *"
   ]
  },
  {
   "cell_type": "code",
   "execution_count": 2,
   "metadata": {},
   "outputs": [
    {
     "name": "stdout",
     "output_type": "stream",
     "text": [
      "        index  little  middle  ring  thumb\n",
      "MCP_aa    0.0     0.0     0.0   0.0    NaN\n",
      "MCP_fe    0.0     0.0     0.0   0.0    0.0\n",
      "PIP       0.0     0.0     0.0   0.0    NaN\n",
      "TMC_aa    NaN     NaN     NaN   NaN    0.0\n",
      "TMC_fe    NaN     NaN     NaN   NaN    0.0\n"
     ]
    }
   ],
   "source": [
    "# Letters\n",
    "letters = {}\n",
    "\n",
    "# Fingers: Index, Middle, Ring, Little\n",
    "fingers = ['index','middle','ring','little']\n",
    "\n",
    "# Joints\n",
    "'''\n",
    "Angles for fingers: \n",
    "    - MCP_fe: metacarpophalangeal flexion/extension \n",
    "    - MCP_aa: metacarpophalangeal abduction/adduction\n",
    "    - PIP: Proximal-interphalangeal \n",
    "\n",
    "Angles for thumb:\n",
    "    - TMC_fe: trapeziometacarpal flexion/extension\n",
    "    - TMC_aa: trapeziometacarpal abduction/adduction\n",
    "    - MCP_fe: metacarpophalangeal flexion/extension\n",
    "'''\n",
    "angles = {'MCP_fe','MCP_aa','PIP'}\n",
    "angles_thumb = {'TMC_fe','TMC_aa','MCP_fe'}\n",
    "\n",
    "\n",
    "# Initialize angles to 0 (Rest position of the hand)\n",
    "default_params = defaultdict(dict)\n",
    "\n",
    "for finger in fingers:\n",
    "    for angle in angles:\n",
    "        default_params[finger][angle] = 0\n",
    "# Thumb\n",
    "for angle in angles_thumb:\n",
    "    default_params['thumb'][angle]=0\n",
    "\n",
    "# Create a dataframe from default_parameters\n",
    "df = pd.DataFrame.from_dict(default_params)\n",
    "print(df)\n",
    "\n",
    "# Transform the dataframe to a row vector\n",
    "array = df.as_matrix().ravel()\n",
    "array = array[~np.isnan(array)]\n",
    "\n",
    "# Number of parameters\n",
    "n_params = len(array)"
   ]
  },
  {
   "cell_type": "code",
   "execution_count": 3,
   "metadata": {},
   "outputs": [],
   "source": [
    "# Parametrize the letters\n",
    "\n",
    "# Letter A\n",
    "A = df.copy()\n",
    "A.loc['MCP_fe':'PIP','index':'ring']=90\n",
    "A.loc['TMC_aa','thumb']=-45\n",
    "letters['A']=A\n",
    "\n",
    "# Letter B\n",
    "B = df.copy()\n",
    "B.loc['TMC_fe','thumb']=180\n",
    "letters['B']=B\n",
    "\n",
    "# Letter D\n",
    "D = df.copy()\n",
    "D.loc['MCP_fe','little':'thumb']=45\n",
    "D.loc['PIP','little':'ring']=60\n",
    "D.loc['TMC_fe','thumb'] = 90\n",
    "letters['D']=D\n",
    "\n",
    "# Letter E\n",
    "E = df.copy()\n",
    "E.loc['MCP_fe','index':'thumb']=90\n",
    "E.loc['PIP','index':'ring']=90\n",
    "E.loc['TMC_aa','thumb']=-90\n",
    "letters['E']=E\n",
    "\n",
    "# Letter F\n",
    "F = df.copy()\n",
    "F.loc['MCP_fe','index']=30\n",
    "F.loc['PIP','index']=90\n",
    "F.loc['TMC_fe','thumb']=45\n",
    "F.loc['MCP_fe','thumb']=90\n",
    "letters['F']=F\n"
   ]
  },
  {
   "cell_type": "code",
   "execution_count": 4,
   "metadata": {},
   "outputs": [
    {
     "name": "stdout",
     "output_type": "stream",
     "text": [
      "A         index  little  middle  ring  thumb\n",
      "MCP_aa    0.0     0.0     0.0   0.0    NaN\n",
      "MCP_fe   90.0    90.0    90.0  90.0    0.0\n",
      "PIP      90.0    90.0    90.0  90.0    NaN\n",
      "TMC_aa    NaN     NaN     NaN   NaN  -45.0\n",
      "TMC_fe    NaN     NaN     NaN   NaN    0.0\n",
      "B         index  little  middle  ring  thumb\n",
      "MCP_aa    0.0     0.0     0.0   0.0    NaN\n",
      "MCP_fe    0.0     0.0     0.0   0.0    0.0\n",
      "PIP       0.0     0.0     0.0   0.0    NaN\n",
      "TMC_aa    NaN     NaN     NaN   NaN    0.0\n",
      "TMC_fe    NaN     NaN     NaN   NaN  180.0\n",
      "D         index  little  middle  ring  thumb\n",
      "MCP_aa    0.0     0.0     0.0   0.0    NaN\n",
      "MCP_fe    0.0    45.0    45.0  45.0   45.0\n",
      "PIP       0.0    60.0    60.0  60.0    NaN\n",
      "TMC_aa    NaN     NaN     NaN   NaN    0.0\n",
      "TMC_fe    NaN     NaN     NaN   NaN   90.0\n",
      "E         index  little  middle  ring  thumb\n",
      "MCP_aa    0.0     0.0     0.0   0.0    NaN\n",
      "MCP_fe   90.0    90.0    90.0  90.0   90.0\n",
      "PIP      90.0    90.0    90.0  90.0    NaN\n",
      "TMC_aa    NaN     NaN     NaN   NaN  -90.0\n",
      "TMC_fe    NaN     NaN     NaN   NaN    0.0\n",
      "F         index  little  middle  ring  thumb\n",
      "MCP_aa    0.0     0.0     0.0   0.0    NaN\n",
      "MCP_fe   30.0     0.0     0.0   0.0   90.0\n",
      "PIP      90.0     0.0     0.0   0.0    NaN\n",
      "TMC_aa    NaN     NaN     NaN   NaN    0.0\n",
      "TMC_fe    NaN     NaN     NaN   NaN   45.0\n"
     ]
    }
   ],
   "source": [
    "# Print letters structure for checking\n",
    "for key, value in letters.items():\n",
    "    print(key, value)\n"
   ]
  },
  {
   "cell_type": "code",
   "execution_count": 5,
   "metadata": {},
   "outputs": [],
   "source": [
    "# Function for creatig samples\n",
    "def create_samples(letter,n_samples,variance):\n",
    "    # Convert to array and eliminate nan values\n",
    "    array = letter.as_matrix().ravel()\n",
    "    array = array[~np.isnan(array)]\n",
    "    \n",
    "    # Create samples and add gausian noise\n",
    "    data = np.tile(array, (n_samples,1))\n",
    "    noise = np.random.normal(0, variance, data.shape)\n",
    "    params = data+noise\n",
    "    \n",
    "    return params"
   ]
  },
  {
   "cell_type": "code",
   "execution_count": 47,
   "metadata": {},
   "outputs": [],
   "source": [
    "# Initialize variables\n",
    "n_samples = 1000\n",
    "variance = 5 #For noise: 5 degrees in all the angles  \n",
    "n_letters = len(letters)\n",
    "\n",
    "# Create the parameters structure to feed the neural network\n",
    "params = np.zeros((n_letters*n_samples,n_params))\n",
    "labels = np.zeros(n_letters*n_samples)\n",
    "key_labels = {} # Dictionary to store the number assigned to each letter\n",
    "\n",
    "l=0\n",
    "for key, letter in letters.items():\n",
    "    \n",
    "    # Params\n",
    "    new_params = create_samples(letter,n_samples,variance)\n",
    "    params[(l*n_samples):(l*n_samples+n_samples),:] = new_params    \n",
    "    l+=1\n",
    "    \n",
    "    # Labels\n",
    "    labels[((l-1)*n_samples):((l-1)*n_samples+n_samples)]=l\n",
    "    key_labels[key]=l"
   ]
  },
  {
   "cell_type": "code",
   "execution_count": null,
   "metadata": {},
   "outputs": [],
   "source": []
  },
  {
   "cell_type": "markdown",
   "metadata": {},
   "source": [
    "# Part 2: Setting the NN"
   ]
  },
  {
   "cell_type": "code",
   "execution_count": 36,
   "metadata": {},
   "outputs": [],
   "source": [
    "import torch\n",
    "import torch.nn as nn"
   ]
  },
  {
   "cell_type": "markdown",
   "metadata": {},
   "source": [
    "## 0. Prepare the data"
   ]
  },
  {
   "cell_type": "code",
   "execution_count": 84,
   "metadata": {},
   "outputs": [
    {
     "name": "stdout",
     "output_type": "stream",
     "text": [
      "Train size: 4800\n",
      "Val size: 100\n",
      "Test size: 100\n"
     ]
    }
   ],
   "source": [
    "# Split the data in training set, validation set and test set\n",
    "# Input data stored in params, labels stored in labels\n",
    "\n",
    "# Create random list of intergers to mask the input data\n",
    "a = np.arange(4999)\n",
    "np.random.shuffle(a)\n",
    "\n",
    "\n",
    "# Test set\n",
    "mask_test = np.zeros(n_letters*n_samples, dtype=bool)\n",
    "trues_test = a[:100]\n",
    "mask_test[trues_test] = True\n",
    "\n",
    "test_data = params[mask_test,:]\n",
    "test_labels = labels[mask_test]\n",
    "\n",
    "# Validation set\n",
    "mask_val = np.zeros(n_letters*n_samples, dtype=bool)\n",
    "trues_val = a[100:200]\n",
    "mask_val[trues_val]=True\n",
    "\n",
    "val_data = params[mask_val,:]\n",
    "val_labels = labels[mask_val]\n",
    "\n",
    "# Train set\n",
    "mask_train = (~mask_test)*(~mask_val)\n",
    "train_data = params[mask_train,:]\n",
    "train_labels = labels[mask_train]\n",
    "\n",
    "\n",
    "print(\"Train size: %i\" % len(train_data))\n",
    "print(\"Val size: %i\" % len(val_data))\n",
    "print(\"Test size: %i\" % len(test_data))"
   ]
  },
  {
   "cell_type": "markdown",
   "metadata": {},
   "source": [
    "## 1. Define the network"
   ]
  },
  {
   "cell_type": "code",
   "execution_count": null,
   "metadata": {},
   "outputs": [],
   "source": [
    "class twoLayerNet(nn.Module):\n",
    "    \n",
    "    def __init__(self, D_in, H, D_out):\n",
    "    \"\"\"\n",
    "    In the constructor we instantiate two nn.Linear modules and assign them as\n",
    "    member variables.\n",
    "    \"\"\"\n",
    "    super(TwoLayerNet, self).__init__()\n",
    "    self.linear1 = nn.Linear(D_in, H)\n",
    "    self.linear2 = nn.Linear(H, D_out)\n",
    "    \n",
    "    def forward(self, x):\n",
    "    \"\"\"\n",
    "    In the forward function we accept a Tensor of input data and we must return\n",
    "    a Tensor of output data. We can use Modules defined in the constructor as\n",
    "    well as arbitrary (differentiable) operations on Tensors.\n",
    "    \"\"\"\n",
    "    h_relu = self.linear1(x).clamp(min=0)\n",
    "    y_pred = self.linear2(h_relu)\n",
    "    return y_pred       "
   ]
  },
  {
   "cell_type": "markdown",
   "metadata": {},
   "source": [
    "## 2. Define a loss function and an optimizer"
   ]
  },
  {
   "cell_type": "code",
   "execution_count": null,
   "metadata": {},
   "outputs": [],
   "source": [
    "# Construct our loss function and an Optimizer\n",
    "loss_fn = nn.MSELoss(reduction='elementwise_mean') # reduction = 'sum'\n",
    "optimizer = torch.optim.SGD(model.parameters(), lr=1e-3)"
   ]
  },
  {
   "cell_type": "code",
   "execution_count": 34,
   "metadata": {},
   "outputs": [],
   "source": [
    "# N is batch size; D_in is input dimension;\n",
    "# H is hidden dimension; D_out is output dimension.\n",
    "N, D_in, H, D_out = 64, train_data.shape[0], 100, train_data.shape[1]\n",
    "\n",
    "# Create random Tensors to hold inputs and outputs\n",
    "x = torch.randn(N, D_in)\n",
    "y = torch.randn(N, D_out)\n",
    "\n",
    "\n",
    "# Construct our model by instantiating the class defined above.\n",
    "model = TwoLayerNet(D_in, H, D_out)\n",
    "\n",
    "# Construct our loss function and an Optimizer\n",
    "loss_fn = nn.MSELoss(reduction='sum') # reduction = 'elementwise_mean'\n",
    "optimizer = torch.optim.SGD(model.parameters(), lr=1e-4)\n",
    "\n",
    "for t in range(500):\n",
    "  # Forward pass: Compute predicted y by passing x to the model\n",
    "  y_pred = model(x)\n",
    "\n",
    "  # Compute and print loss\n",
    "  loss = loss_fn(y_pred, y)\n",
    "  print(t, loss.item())\n",
    "\n",
    "  # Zero gradients, perform a backward pass, and update the weights.\n",
    "  optimizer.zero_grad()\n",
    "  loss.backward()\n",
    "  optimizer.step()\n"
   ]
  }
 ],
 "metadata": {
  "kernelspec": {
   "display_name": "Python 3",
   "language": "python",
   "name": "python3"
  },
  "language_info": {
   "codemirror_mode": {
    "name": "ipython",
    "version": 3
   },
   "file_extension": ".py",
   "mimetype": "text/x-python",
   "name": "python",
   "nbconvert_exporter": "python",
   "pygments_lexer": "ipython3",
   "version": "3.6.4"
  }
 },
 "nbformat": 4,
 "nbformat_minor": 2
}
